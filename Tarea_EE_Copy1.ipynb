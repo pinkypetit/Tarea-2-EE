{
  "cells": [
    {
      "cell_type": "markdown",
      "id": "7f6177b5-b706-4f12-ad07-c961b651339c",
      "metadata": {
        "id": "7f6177b5-b706-4f12-ad07-c961b651339c"
      },
      "source": [
        "# Tarea Eficiencia Energética"
      ]
    },
    {
      "cell_type": "markdown",
      "id": "38cc89b5-109c-4a78-8b33-78fbbe390e71",
      "metadata": {
        "id": "38cc89b5-109c-4a78-8b33-78fbbe390e71"
      },
      "source": [
        "## a) PCI de GLP\n",
        "Para determinar el poder calorífico del GLP, debemos considerar la combustión perfecta con $\\ce{O2}$.\n",
        "\n",
        "Para el PCI\n",
        "\\begin{equation}\n",
        "\\ce{ x1C_4H_{10} +x2C_3H_8 + aO2 -> bCO2 + cH2O(g)}\n",
        "\\end{equation}"
      ]
    },
    {
      "cell_type": "code",
      "source": [
        "!pip install cantera"
      ],
      "metadata": {
        "colab": {
          "base_uri": "https://localhost:8080/"
        },
        "id": "hjnI5aA_h9B_",
        "outputId": "004379e6-cd87-4c7c-dd7e-5d2e1d18e5e2"
      },
      "id": "hjnI5aA_h9B_",
      "execution_count": null,
      "outputs": [
        {
          "output_type": "stream",
          "name": "stdout",
          "text": [
            "Requirement already satisfied: cantera in /usr/local/lib/python3.11/dist-packages (3.1.0)\n",
            "Requirement already satisfied: numpy<3,>=1.12.0 in /usr/local/lib/python3.11/dist-packages (from cantera) (2.0.2)\n",
            "Requirement already satisfied: ruamel.yaml>=0.15.34 in /usr/local/lib/python3.11/dist-packages (from cantera) (0.18.10)\n",
            "Requirement already satisfied: ruamel.yaml.clib>=0.2.7 in /usr/local/lib/python3.11/dist-packages (from ruamel.yaml>=0.15.34->cantera) (0.2.12)\n"
          ]
        }
      ]
    },
    {
      "cell_type": "code",
      "execution_count": null,
      "id": "3a042195-18c3-401e-b49a-f212ddba39bb",
      "metadata": {
        "id": "3a042195-18c3-401e-b49a-f212ddba39bb"
      },
      "outputs": [],
      "source": [
        "# importamos\n",
        "import cantera as ct\n",
        "import numpy as np\n",
        "import matplotlib.pyplot as plt\n",
        "import warnings\n",
        "warnings.filterwarnings(\"ignore\", category=UserWarning)\n",
        "water = ct.Water()\n",
        "gas=ct.Solution(\"gri30.yaml\")\n",
        "\n",
        "comb_gas = ct.Solution(\"/content/combustion_gases.yaml\")\n",
        "gas.basis = 'molar'   # establecemos base molar por defecto\n",
        "comb_gas.basis=\"molar\"\n",
        "\n"
      ]
    },
    {
      "cell_type": "code",
      "execution_count": null,
      "id": "a76f8b96-d4d2-4086-a80c-c470924d02cc",
      "metadata": {
        "colab": {
          "base_uri": "https://localhost:8080/"
        },
        "id": "a76f8b96-d4d2-4086-a80c-c470924d02cc",
        "outputId": "8a6fe5e6-75a9-409d-e3a1-f5b3e8272cc3"
      },
      "outputs": [
        {
          "output_type": "stream",
          "name": "stdout",
          "text": [
            "5.79765 3.5318 4.5317\n"
          ]
        }
      ],
      "source": [
        "#balance\n",
        "N_c4h10 = 0.5321 #butano\n",
        "N_c3h8=0.4678 #propano\n",
        "\n",
        "#balance\n",
        "b=N_c4h10*4+N_c3h8*3\n",
        "c=(N_c4h10*10+N_c3h8*8)/2\n",
        "a=(2*b+c)/2\n",
        "print(a,b,c)\n",
        "a_exc=1.4*a\n",
        "\n"
      ]
    },
    {
      "cell_type": "code",
      "execution_count": null,
      "id": "1ee71580-74f6-4a18-adb5-bb27f06acbbb",
      "metadata": {
        "id": "1ee71580-74f6-4a18-adb5-bb27f06acbbb"
      },
      "outputs": [],
      "source": [
        "#asignamos el numero de moles\n",
        "N_o2 = a\n",
        "#N productos\n",
        "N_h2o = c\n",
        "N_co2 = b\n",
        "\n",
        "N_fuel=N_c4h10+N_c3h8\n",
        "N_prod= N_h2o+N_co2"
      ]
    },
    {
      "cell_type": "markdown",
      "id": "5587d97e-de80-48fd-a357-c463653f90a6",
      "metadata": {
        "id": "5587d97e-de80-48fd-a357-c463653f90a6"
      },
      "source": [
        "Ahora extraemos las entalpías de cada elemento. Asumimos que el combustible y el $\\ce{O2}$ entran por separado a la cámara, cada uno a 25°C y 1 atm. Los productos, en cambio, salen de la cámara como una mezcla a 1 atm y 25°C. Consideramos el agua en estado gaseoso para el PCI."
      ]
    },
    {
      "cell_type": "code",
      "execution_count": null,
      "id": "75563603-11db-4035-a25e-425f5bb41857",
      "metadata": {
        "colab": {
          "base_uri": "https://localhost:8080/"
        },
        "id": "75563603-11db-4035-a25e-425f5bb41857",
        "outputId": "847d8f25-500b-4e5b-b653-d6f4da705886"
      },
      "outputs": [
        {
          "output_type": "stream",
          "name": "stdout",
          "text": [
            "51.559364\n"
          ]
        }
      ],
      "source": [
        "#sacamos los h\n",
        "#estado 1, oxígeno\n",
        "T1, P1   = 25+273.15, ct.one_atm # condiciones de entrada\n",
        "gas.TPX=T1,P1, 'O2:%.3f' %(N_o2)\n",
        "h_o2=gas.h\n",
        "s_o2=gas.s\n",
        "\n",
        "#estado 2, combustible\n",
        "T2, P2   = 25+273.15, ct.one_atm # condiciones de entrada\n",
        "comb_gas.TPX=T2,P2, 'C4H10:%.3f,C3H8:%.3f' %(N_c4h10,N_c3h8)\n",
        "h_fuel=comb_gas.h\n",
        "s_fuel=comb_gas.s\n",
        "M_fuel=comb_gas.mean_molecular_weight\n",
        "\n",
        "print(M_fuel)\n",
        "\n",
        "#estado 3, productos\n",
        "T3, P3   = 25+273.15, ct.one_atm # condiciones de entrada\n",
        "gas.TPX=T3,P3, 'CO2:%.3f,H2O:%.3f' %(N_co2,N_h2o)\n",
        "h_prod=gas.h\n",
        "s_prod=gas.s"
      ]
    },
    {
      "cell_type": "code",
      "execution_count": null,
      "id": "95c9b140-5764-4778-96bd-04f241832b3d",
      "metadata": {
        "colab": {
          "base_uri": "https://localhost:8080/"
        },
        "id": "95c9b140-5764-4778-96bd-04f241832b3d",
        "outputId": "82decbaa-3860-40b7-84a1-a6a28b682b5c"
      },
      "outputs": [
        {
          "output_type": "stream",
          "name": "stdout",
          "text": [
            "-107114503.15984121 0.09475291855543456 -2485664454.681399\n",
            "El calor liberado es: 2378550.0 kJ/kmol-fuel\n"
          ]
        }
      ],
      "source": [
        "q_pci = N_fuel*h_fuel + N_o2*h_o2 - N_prod*h_prod\n",
        "print(N_fuel*h_fuel,N_o2*h_o2,N_prod*h_prod)\n",
        "print('El calor liberado es: %.1f kJ/kmol-fuel' % (q_pci*1E-3))"
      ]
    },
    {
      "cell_type": "markdown",
      "id": "6980e01d-6fab-4450-95c3-6335024c1224",
      "metadata": {
        "id": "6980e01d-6fab-4450-95c3-6335024c1224"
      },
      "source": [
        "Para determinar el PCI debemos usar la masa molar del combustible\n"
      ]
    },
    {
      "cell_type": "code",
      "execution_count": null,
      "id": "4e05848b-11d7-4d55-a6fa-31cfcbfb7210",
      "metadata": {
        "colab": {
          "base_uri": "https://localhost:8080/"
        },
        "id": "4e05848b-11d7-4d55-a6fa-31cfcbfb7210",
        "outputId": "a0060da2-d211-4cf4-f28e-1aff9f16c4e1"
      },
      "outputs": [
        {
          "output_type": "stream",
          "name": "stdout",
          "text": [
            "El poder calorífico inferior (PCI) es: 46.13 MJ/kg\n"
          ]
        }
      ],
      "source": [
        "PCI = q_pci/M_fuel\n",
        "print('El poder calorífico inferior (PCI) es: %.2f MJ/kg' % (PCI*1E-6))"
      ]
    },
    {
      "cell_type": "markdown",
      "id": "af75ebb8-e756-46d6-bc48-15695decfa13",
      "metadata": {
        "id": "af75ebb8-e756-46d6-bc48-15695decfa13"
      },
      "source": [
        "## Volumen de control 1. Cámara de combustión"
      ]
    },
    {
      "cell_type": "code",
      "execution_count": null,
      "id": "44cd7ecd-c545-4952-9e0f-ea47ab01ddcb",
      "metadata": {
        "id": "44cd7ecd-c545-4952-9e0f-ea47ab01ddcb"
      },
      "outputs": [],
      "source": [
        "# importamos\n",
        "import cantera as ct\n",
        "import numpy as np\n",
        "import warnings\n",
        "warnings.filterwarnings(\"ignore\", category=UserWarning)\n",
        "water = ct.Water()\n",
        "gas=ct.Solution(\"gri30.yaml\")\n",
        "\n",
        "comb_gas = ct.Solution(\"/content/combustion_gases.yaml\")\n",
        "gas.basis = 'molar'   # establecemos base molar por defecto\n",
        "comb_gas.basis=\"molar\""
      ]
    },
    {
      "cell_type": "markdown",
      "id": "b0bc40b3-539d-4384-bec6-14c906cffc9a",
      "metadata": {
        "id": "b0bc40b3-539d-4384-bec6-14c906cffc9a"
      },
      "source": [
        "Consideramos combustión con exceso de aire de 40%.\n",
        "\n",
        "\\begin{equation}\n",
        "\\ce{ x1C_4H_{10} +x2C_3H_8 + a(O2 +3.76N2) -> bCO2 + cH2O(l) + dN2 + eO2}\n",
        "\\end{equation}\n"
      ]
    },
    {
      "cell_type": "code",
      "execution_count": null,
      "id": "efd94843-8cd5-4f4a-ae66-3a0d2b7357d8",
      "metadata": {
        "colab": {
          "base_uri": "https://localhost:8080/"
        },
        "id": "efd94843-8cd5-4f4a-ae66-3a0d2b7357d8",
        "outputId": "1f6cd00f-51ab-4db8-f71f-dfccb641a7e5"
      },
      "outputs": [
        {
          "output_type": "stream",
          "name": "stdout",
          "text": [
            "11.622222222222222\n"
          ]
        }
      ],
      "source": [
        "# datos\n",
        "#potencia quemador\n",
        "Pot=10E6*4.184/3600 #W\n",
        "print(Pot/1000)\n",
        "caudal=4/(60*1000) #m3/s"
      ]
    },
    {
      "cell_type": "code",
      "execution_count": null,
      "id": "9db42c84-c137-4e18-afc5-50c66a5f7176",
      "metadata": {
        "colab": {
          "base_uri": "https://localhost:8080/"
        },
        "id": "9db42c84-c137-4e18-afc5-50c66a5f7176",
        "outputId": "46135678-034b-4a97-d02b-33dd81dae215"
      },
      "outputs": [
        {
          "output_type": "stream",
          "name": "stdout",
          "text": [
            "5.79765 3.5318 4.5317\n"
          ]
        }
      ],
      "source": [
        "#balance\n",
        "N_c4h10 = 0.5321 #butano\n",
        "N_c3h8=0.4678 #propano\n",
        "\n",
        "#balance\n",
        "b=N_c4h10*4+N_c3h8*3\n",
        "c=(N_c4h10*10+N_c3h8*8)/2\n",
        "a=(2*b+c)/2\n",
        "print(a,b,c)\n",
        "a_exc=1.4*a\n"
      ]
    },
    {
      "cell_type": "code",
      "execution_count": null,
      "id": "33219935-49b4-4468-88b4-ef8954c239a7",
      "metadata": {
        "id": "33219935-49b4-4468-88b4-ef8954c239a7"
      },
      "outputs": [],
      "source": [
        "#asignamos el numero de moles\n",
        "N_air = a_exc*4.76\n",
        "#N productos\n",
        "N_h2o = c\n",
        "N_co2 = b\n",
        "N_n2 = 3.76*a_exc\n",
        "N_o2=(2*a_exc-2*b-c)/2\n",
        "\n",
        "N_fuel=N_c4h10+N_c3h8\n",
        "N_prod= N_h2o+N_co2+N_n2+N_o2"
      ]
    },
    {
      "cell_type": "code",
      "execution_count": null,
      "id": "95e31e55-bd99-4601-8992-b861508c5df8",
      "metadata": {
        "colab": {
          "base_uri": "https://localhost:8080/"
        },
        "id": "95e31e55-bd99-4601-8992-b861508c5df8",
        "outputId": "9dfa0750-a129-4b08-d90e-f1973ed38f50"
      },
      "outputs": [
        {
          "output_type": "stream",
          "name": "stdout",
          "text": [
            "51.559364\n",
            "\n",
            "  gri30:\n",
            "\n",
            "       temperature   278.15 K\n",
            "          pressure   1.0132e+05 Pa\n",
            "           density   1.2492 kg/m^3\n",
            "  mean mol. weight   28.513 kg/kmol\n",
            "   phase of matter   gas\n",
            "\n",
            "                          1 kg             1 kmol     \n",
            "                     ---------------   ---------------\n",
            "          enthalpy       -2.1526e+06       -6.1378e+07  J\n",
            "   internal energy       -2.2337e+06       -6.3691e+07  J\n",
            "           entropy            6971.1        1.9877e+05  J/K\n",
            "    Gibbs function       -4.0916e+06       -1.1667e+08  J\n",
            " heat capacity c_p            1057.6             30155  J/K\n",
            " heat capacity c_v            765.97             21840  J/K\n",
            "\n",
            "                      mass frac. Y      mole frac. X     chem. pot. / RT\n",
            "                     ---------------   ---------------   ---------------\n",
            "                O2          0.063626          0.056696           -27.552\n",
            "               H2O          0.070006            0.1108           -129.49\n",
            "               CO2           0.13328          0.086353           -198.33\n",
            "                N2           0.73309           0.74615           -23.334\n",
            "     [  +49 minor]                 0                 0  \n",
            "\n"
          ]
        }
      ],
      "source": [
        "#sacamos los h\n",
        "#estado 1, aire\n",
        "T1, P1   = 5+273.15, ct.one_atm # condiciones de entrada\n",
        "gas.TPX=T1,P1, 'O2:1, N2:3.76'\n",
        "h_air=gas.h\n",
        "s_air=gas.s\n",
        "M_air=gas.mean_molecular_weight\n",
        "\n",
        "#estado 2, combustible\n",
        "T2, P2   = 25+273.15, ct.one_atm # condiciones de entrada\n",
        "comb_gas.TPX=T2,P2, 'C4H10:%.3f,C3H8:%.3f' %(N_c4h10,N_c3h8)\n",
        "h_fuel=comb_gas.h\n",
        "s_fuel=comb_gas.s\n",
        "\n",
        "M_fuel=comb_gas.mean_molecular_weight\n",
        "rho_fuel=comb_gas.density\n",
        "print(M_fuel)\n",
        "\n",
        "#estado 3, productos\n",
        "T3, P3   = None, ct.one_atm # condiciones de entrada\n",
        "gas.TPX=T3,P3, 'CO2:%.3f,H2O:%.3f,N2:%.3f,O2:%.3f' %(N_co2,N_h2o,N_n2,N_o2)\n",
        "h_prod=gas.h\n",
        "s_prod=gas.s\n",
        "cp_prod=gas.cp\n",
        "M_prod=gas.mean_molecular_weight\n",
        "cp_prodm=cp_prod/gas.mean_molecular_weight #J/kgK\n",
        "viscosity_prod=gas.viscosity\n",
        "k_prod=gas.thermal_conductivity\n",
        "density_prod=gas.density\n",
        "density_prodm=density_prod*M_prod\n",
        "\n",
        "gas()\n",
        "\n"
      ]
    },
    {
      "cell_type": "code",
      "execution_count": null,
      "id": "40d87f06-6b40-4c17-bc34-978774504d35",
      "metadata": {
        "colab": {
          "base_uri": "https://localhost:8080/"
        },
        "id": "40d87f06-6b40-4c17-bc34-978774504d35",
        "outputId": "dba77fe1-2d5a-4792-ef6e-f43134ed5be7"
      },
      "outputs": [
        {
          "output_type": "stream",
          "name": "stdout",
          "text": [
            "q_o en J/kmol-fuel es: 2380897494.321461\n",
            "-107114503.15984121 -22446748.60376917 -2510458746.0850716\n",
            "Flujo másico de combustible en kg/s es: 0.0002516842440607558\n",
            "Flujo molar de combustible en kmol/s es: 4.881445862302642e-06\n"
          ]
        }
      ],
      "source": [
        "#hacemos el balance\n",
        "qo=(N_fuel*h_fuel+N_air*h_air)-(N_prod*h_prod) #J/kmol-fuel\n",
        "print(\"q_o en J/kmol-fuel es:\",qo)\n",
        "#queremos dejarlo en KW\n",
        "print(N_fuel*h_fuel,N_air*h_air,N_prod*h_prod)\n",
        "m_fuel=Pot*M_fuel/qo #flujo masico de combustible en kg/s\n",
        "n_fuel=m_fuel/M_fuel\n",
        "print(\"Flujo másico de combustible en kg/s es:\", m_fuel)\n",
        "print(\"Flujo molar de combustible en kmol/s es:\", n_fuel)"
      ]
    },
    {
      "cell_type": "markdown",
      "id": "d3850824-6682-41b5-8636-bf261dc57388",
      "metadata": {
        "id": "d3850824-6682-41b5-8636-bf261dc57388"
      },
      "source": [
        "## Volumen de control 2. Sistema de agua"
      ]
    },
    {
      "cell_type": "code",
      "execution_count": null,
      "id": "427067d8-ed23-433e-be9d-cae7f7ed7f05",
      "metadata": {
        "id": "427067d8-ed23-433e-be9d-cae7f7ed7f05"
      },
      "outputs": [],
      "source": [
        "#Estado 4, entrada de agua\n",
        "water = ct.Water()\n",
        "water.basis= 'mass'\n",
        "T4,P4=40+273.15,ct.one_atm\n",
        "water.TP = T4, P4\n",
        "h_h2o_in=water.h\n",
        "rho_h2o=water.density\n",
        "#J/kg"
      ]
    },
    {
      "cell_type": "code",
      "execution_count": null,
      "id": "c6149a6d-dbaa-4957-8c9f-26b6454226ef",
      "metadata": {
        "id": "c6149a6d-dbaa-4957-8c9f-26b6454226ef"
      },
      "outputs": [],
      "source": [
        "#Estado 5, salida de agua\n",
        "water = ct.Water()\n",
        "water.basis= 'mass'\n",
        "T5,P5=60+273.15,ct.one_atm\n",
        "water.TP = T5, P5\n",
        "h_h2o_out=water.h\n",
        "#J/kg"
      ]
    },
    {
      "cell_type": "code",
      "execution_count": null,
      "id": "0c781fb2-010b-45b1-9d79-1ecc05990d45",
      "metadata": {
        "colab": {
          "base_uri": "https://localhost:8080/"
        },
        "id": "0c781fb2-010b-45b1-9d79-1ecc05990d45",
        "outputId": "1250bb49-3dd3-4f19-de16-9d26bdec2180"
      },
      "outputs": [
        {
          "output_type": "stream",
          "name": "stdout",
          "text": [
            "El flujo másico del agua en kg/s es: 0.0661511404279007\n",
            "El calor necesario para calentar el agua en kW es: 5.526993249368426\n"
          ]
        }
      ],
      "source": [
        "#haciendo balance, queda que:\n",
        "m_h2o=rho_h2o*caudal #flujo masico de agua, kg/s\n",
        "print(\"El flujo másico del agua en kg/s es:\",m_h2o)\n",
        "Q_h2o=m_h2o*(h_h2o_out-h_h2o_in) #calor para calentar el agua\n",
        "print(\"El calor necesario para calentar el agua en kW es:\",Q_h2o/1000) #kW\n"
      ]
    },
    {
      "cell_type": "code",
      "execution_count": null,
      "id": "55189afa-64ea-4a72-89c6-b97483e7326f",
      "metadata": {
        "colab": {
          "base_uri": "https://localhost:8080/"
        },
        "id": "55189afa-64ea-4a72-89c6-b97483e7326f",
        "outputId": "d0a18aa9-92e5-474a-d487-a74443816aa1"
      },
      "outputs": [
        {
          "output_type": "stream",
          "name": "stdout",
          "text": [
            "6095.228972853796\n"
          ]
        }
      ],
      "source": [
        "#balance de calor\n",
        "Q_room=Pot-Q_h2o\n",
        "print(Q_room)"
      ]
    },
    {
      "cell_type": "code",
      "execution_count": null,
      "id": "55a103a2-cd49-43b3-a41b-e2414797cd20",
      "metadata": {
        "colab": {
          "base_uri": "https://localhost:8080/"
        },
        "id": "55a103a2-cd49-43b3-a41b-e2414797cd20",
        "outputId": "20f5f7d8-adf6-4cb3-cf89-199b38b4db9f"
      },
      "outputs": [
        {
          "output_type": "stream",
          "name": "stdout",
          "text": [
            "Eficiencia de descarga en % es: 47.60232669673968\n"
          ]
        }
      ],
      "source": [
        "#calculamos eficiencia de descarga\n",
        "\n",
        "ef=(m_h2o*(h_h2o_out-h_h2o_in))/(m_fuel*PCI)\n",
        "print(\"Eficiencia de descarga en % es:\",ef*100)"
      ]
    },
    {
      "cell_type": "markdown",
      "id": "b528200a-8a37-4cd5-b31a-672c50f5e56e",
      "metadata": {
        "id": "b528200a-8a37-4cd5-b31a-672c50f5e56e"
      },
      "source": [
        "## Resistencia a la transferencia de calor predominante en la zona calentamiento (calefacción)"
      ]
    },
    {
      "cell_type": "code",
      "execution_count": null,
      "id": "251c3589-1fa0-4c38-bbfa-c897eef4fb28",
      "metadata": {
        "colab": {
          "base_uri": "https://localhost:8080/"
        },
        "id": "251c3589-1fa0-4c38-bbfa-c897eef4fb28",
        "outputId": "fb85c12c-caaa-406c-bb0d-39f88bb6dceb"
      },
      "outputs": [
        {
          "output_type": "stream",
          "name": "stdout",
          "text": [
            "8.11671\n",
            "Flujo másico de los gases de salida en kg/s es: 0.00569344422119124\n"
          ]
        }
      ],
      "source": [
        "# Calculo T°\n",
        "#cp_\n",
        "print(a_exc)\n",
        "n_air= N_air*n_fuel/N_fuel #kmol/s\n",
        "m_air=n_air*M_air\n",
        "m_prod=m_fuel+m_air\n",
        "print(\"Flujo másico de los gases de salida en kg/s es:\",m_prod)"
      ]
    },
    {
      "cell_type": "code",
      "execution_count": null,
      "id": "b4f1d5bb-a197-4e4c-81f2-7f71b84bc446",
      "metadata": {
        "colab": {
          "base_uri": "https://localhost:8080/"
        },
        "id": "b4f1d5bb-a197-4e4c-81f2-7f71b84bc446",
        "outputId": "29055ce8-ac15-4fbf-ef3f-b46f54040b33"
      },
      "outputs": [
        {
          "output_type": "stream",
          "name": "stdout",
          "text": [
            "Temperatura de salida de gases del boiler en K: 1290.4389190698853\n"
          ]
        }
      ],
      "source": [
        "delta_T_prod=Q_room/(m_prod*cp_prodm)\n",
        "print\n",
        "T_in=T1 #K, Tin,boiler\n",
        "To_prod=delta_T_prod+T_in\n",
        "print(\"Temperatura de salida de gases del boiler en K:\",To_prod)"
      ]
    },
    {
      "cell_type": "code",
      "execution_count": null,
      "id": "e3d8801c-3e7d-48c0-b4eb-4027a26a9b90",
      "metadata": {
        "colab": {
          "base_uri": "https://localhost:8080/"
        },
        "id": "e3d8801c-3e7d-48c0-b4eb-4027a26a9b90",
        "outputId": "b5e6484a-31ee-4ae1-f878-c428c9fc996c"
      },
      "outputs": [
        {
          "output_type": "execute_result",
          "data": {
            "text/plain": [
              "1057.5732852281758"
            ]
          },
          "metadata": {},
          "execution_count": 236
        }
      ],
      "source": [
        "cp_prodm"
      ]
    },
    {
      "cell_type": "code",
      "execution_count": null,
      "id": "53bba364-cef5-4419-b246-8e4ee733584b",
      "metadata": {
        "colab": {
          "base_uri": "https://localhost:8080/"
        },
        "id": "53bba364-cef5-4419-b246-8e4ee733584b",
        "outputId": "6ff1b2a8-b34a-4843-ccbf-49fb777484bd"
      },
      "outputs": [
        {
          "output_type": "stream",
          "name": "stdout",
          "text": [
            "-61378324.0774067 198767.98041876283 28.513187521392595 1057.5732852281758 1.6010990350204934e-05 0.023924986150242314 1.2492493535123657\n"
          ]
        }
      ],
      "source": [
        "## Propiedades de productos según temperatura\n",
        "\n",
        "def prod(temp):\n",
        "    T3, P3   = temp, ct.one_atm # condiciones de entrada\n",
        "    gas.TPX=T3,P3, 'CO2:%.3f,H2O:%.3f,N2:%.3f,O2:%.3f' %(N_co2,N_h2o,N_n2,N_o2)\n",
        "    h_prod=gas.h\n",
        "    s_prod=gas.s\n",
        "    cp_prod=gas.cp\n",
        "    M_prod=gas.mean_molecular_weight\n",
        "    cp_prodm=cp_prod/gas.mean_molecular_weight #J/kgK\n",
        "    viscosity_prod=gas.viscosity\n",
        "    k_prod=gas.thermal_conductivity\n",
        "    density_prod=gas.density\n",
        "    density_prodm=density_prod*M_prod\n",
        "    return h_prod, s_prod, M_prod, cp_prodm, viscosity_prod, k_prod, density_prodm\n",
        "\n",
        "h_prod, s_prod, M_prod, cp_prodm, viscosity_prod, k_prod, density_prodm = prod(273.15 +5 )\n",
        "print(h_prod, s_prod, M_prod, cp_prodm, viscosity_prod, k_prod, density_prodm)\n"
      ]
    },
    {
      "cell_type": "markdown",
      "id": "57be8c88-c686-4b30-bbb8-c5b88ebca829",
      "metadata": {
        "id": "57be8c88-c686-4b30-bbb8-c5b88ebca829"
      },
      "source": [
        "Para calcular el h_interno, asumiremos el caso como convección natural en una pared plana, dado que H>>D."
      ]
    },
    {
      "cell_type": "code",
      "execution_count": null,
      "id": "662ec261-98ae-4c70-8d60-046220333f3b",
      "metadata": {
        "id": "662ec261-98ae-4c70-8d60-046220333f3b"
      },
      "outputs": [],
      "source": [
        "\n"
      ]
    },
    {
      "cell_type": "code",
      "execution_count": null,
      "id": "ca50f785-1b82-4fcf-88d1-db5daf77dd94",
      "metadata": {
        "id": "ca50f785-1b82-4fcf-88d1-db5daf77dd94"
      },
      "outputs": [],
      "source": []
    },
    {
      "cell_type": "code",
      "execution_count": null,
      "id": "69e6c899-1d30-412c-a779-3abfef4a2fd1",
      "metadata": {
        "colab": {
          "base_uri": "https://localhost:8080/"
        },
        "id": "69e6c899-1d30-412c-a779-3abfef4a2fd1",
        "outputId": "7ff1f478-80ad-401b-aaa5-94439e46937d"
      },
      "outputs": [
        {
          "output_type": "stream",
          "name": "stdout",
          "text": [
            "Reynolds es turbulento 4756.230443108379\n",
            "coeficiente convectivo interno en W/m2K: 6.012364651338676\n",
            "0.4787787204070844\n",
            "0.347392027639689\n"
          ]
        }
      ],
      "source": [
        "#asumimos una To_funnel (salida cañon)\n",
        "#h interno\n",
        "Di=3*0.0254\n",
        "Ai=np.pi*(Di/2)**2\n",
        "L=2 #m\n",
        "\n",
        "V=m_prod/(density_prodm*Ai) #m/s\n",
        "Re=V*Di/viscosity_prod\n",
        "print(\"Reynolds es turbulento\",Re)\n",
        "\n",
        "alpha=k_prod/(density_prodm*cp_prodm)\n",
        "Pr=viscosity_prod/alpha\n",
        "\n",
        "\n",
        "#usamos la correlacion de dittus-boelter, con calentamiento\n",
        "Nu=0.023*(Re**0.8)*(Pr**0.4)\n",
        "\n",
        "hi=Nu*k_prod/Di\n",
        "print(\"coeficiente convectivo interno en W/m2K:\",hi)\n",
        "Ais=np.pi*Di*L #superficial\n",
        "print(Ais)\n",
        "Rcni=1/(Ais*hi)\n",
        "print(Rcni) #W/K\n"
      ]
    },
    {
      "cell_type": "code",
      "execution_count": null,
      "id": "57399b0f-3a2e-4b04-8d39-170f4234bb9b",
      "metadata": {
        "colab": {
          "base_uri": "https://localhost:8080/"
        },
        "id": "57399b0f-3a2e-4b04-8d39-170f4234bb9b",
        "outputId": "eeebb491-2d94-4a37-dba1-d71143fca845"
      },
      "outputs": [
        {
          "output_type": "execute_result",
          "data": {
            "text/plain": [
              "np.float64(8.142693503151515e-05)"
            ]
          },
          "metadata": {},
          "execution_count": 239
        }
      ],
      "source": [
        "### Cálculo resistencia conductiva\n",
        "t=0.002\n",
        "Do=Di+0.002*2\n",
        "Ao=np.pi*(Do/2)**2\n",
        "k_ss= 50 #aisi 304, W/mK\n",
        "Rcd=np.log(Do/Di)/(2*np.pi*k_ss*L)\n",
        "Rcd #efectivamente, es despreciable\n"
      ]
    },
    {
      "cell_type": "code",
      "execution_count": null,
      "id": "7acec721-6d67-4efc-b5f5-a5707c40023f",
      "metadata": {
        "id": "7acec721-6d67-4efc-b5f5-a5707c40023f"
      },
      "outputs": [],
      "source": [
        "#AIRE HABITACION\n",
        "#estado 1, aire,casa\n",
        "Ts=(To_prod+23)/2 #K hay que iterar chiquitines\n",
        "Tamb=23+273.15 #K\n",
        "\n",
        "Tf=(Ts+Tamb)/2\n",
        "Tf, P1   = Tf, ct.one_atm # condiciones de entrada\n",
        "gas.TPX=Tf,P1, 'O2:1, N2:3.76'\n",
        "viscosity_airhouse=gas.viscosity\n",
        "k_airhouse=gas.thermal_conductivity\n",
        "M_airhouse=gas.mean_molecular_weight\n",
        "\n",
        "density_airhouse=gas.density\n",
        "density_airhousem=density_prod*M_airhouse\n",
        "cp_airhouse=gas.cp\n",
        "cp_airhousem=cp_airhouse/gas.mean_molecular_weight #J/kgK\n"
      ]
    },
    {
      "cell_type": "code",
      "execution_count": null,
      "id": "a3cd339a-fda6-440b-a666-11dc99572256",
      "metadata": {
        "colab": {
          "base_uri": "https://localhost:8080/"
        },
        "id": "a3cd339a-fda6-440b-a666-11dc99572256",
        "outputId": "0ad9ac70-01f2-48fb-9cdd-b1d83ae1b3a4"
      },
      "outputs": [
        {
          "output_type": "execute_result",
          "data": {
            "text/plain": [
              "476.4347297674713"
            ]
          },
          "metadata": {},
          "execution_count": 241
        }
      ],
      "source": [
        "Tf"
      ]
    },
    {
      "cell_type": "code",
      "execution_count": null,
      "id": "870ce986-3838-4b2c-8e6b-d2b9ebf0aa1a",
      "metadata": {
        "colab": {
          "base_uri": "https://localhost:8080/"
        },
        "id": "870ce986-3838-4b2c-8e6b-d2b9ebf0aa1a",
        "outputId": "16b864aa-d65b-42e5-d612-b858d78f8cfc"
      },
      "outputs": [
        {
          "output_type": "stream",
          "name": "stdout",
          "text": [
            "874309.552320422\n",
            "0.002098923393951696 360.56945953494267 2.6063914903292623e-05\n",
            "63.8904231006027\n"
          ]
        },
        {
          "output_type": "execute_result",
          "data": {
            "text/plain": [
              "0.06565372758691089"
            ]
          },
          "metadata": {},
          "execution_count": 242
        }
      ],
      "source": [
        "alpha_airhouse=k_airhouse/(density_airhousem*cp_airhousem)\n",
        "Pr=viscosity_airhouse/alpha_airhouse\n",
        "beta=1/Tf\n",
        "\n",
        "Gr=9.81*beta*(Ts-Tamb)*L**3/(viscosity_airhouse**2)\n",
        "print(Gr/(10**5))\n",
        "#asumimos la siguiente correlacion para cilindros verticales\n",
        "print(beta,Ts-Tamb,viscosity_airhouse)\n",
        "\n",
        "\n",
        "\n",
        "Nuo=nusselt_external_convection(Gr,Pr)\n",
        "print(Nuo)\n",
        "ho=Nuo*k_airhouse/Do\n",
        "Ao=np.pi*Do*L\n",
        "Rcno=1/(Ao*ho)\n",
        "Rcno"
      ]
    },
    {
      "cell_type": "code",
      "execution_count": null,
      "id": "f8a37ed1-12fa-4605-a2ba-f315de15342b",
      "metadata": {
        "colab": {
          "base_uri": "https://localhost:8080/"
        },
        "id": "f8a37ed1-12fa-4605-a2ba-f315de15342b",
        "outputId": "60038d2c-53cf-4b10-908a-6923ffcd072c"
      },
      "outputs": [
        {
          "output_type": "execute_result",
          "data": {
            "text/plain": [
              "(19.627705772027667, 7077.151262130891, 0.10110583593920253)"
            ]
          },
          "metadata": {},
          "execution_count": 243
        }
      ],
      "source": [
        "#hradiativo\n",
        "emi=0.7\n",
        "cboltz=5.67*10**(-8)\n",
        "qrad=emi*cboltz*(Ts**4-Tamb**4)\n",
        "hrad=qrad/(Ts-Tamb)\n",
        "Rrad=1/(hrad*Ao)\n",
        "hrad, qrad, Rrad"
      ]
    },
    {
      "cell_type": "code",
      "execution_count": null,
      "id": "89902731-708c-491d-b43b-ce523422a504",
      "metadata": {
        "colab": {
          "base_uri": "https://localhost:8080/"
        },
        "id": "89902731-708c-491d-b43b-ce523422a504",
        "outputId": "e73fc74d-a246-423b-8bce-6ef6be454581"
      },
      "outputs": [
        {
          "output_type": "execute_result",
          "data": {
            "text/plain": [
              "0.039805663134635426"
            ]
          },
          "metadata": {},
          "execution_count": 244
        }
      ],
      "source": [
        "Rext=((1/Rrad)+(1/Rcno))**-1\n",
        "Rext"
      ]
    },
    {
      "cell_type": "code",
      "execution_count": null,
      "id": "2a06db14-4091-4332-89c2-72a95abb9eb1",
      "metadata": {
        "colab": {
          "base_uri": "https://localhost:8080/"
        },
        "id": "2a06db14-4091-4332-89c2-72a95abb9eb1",
        "outputId": "193b5661-49aa-4508-e432-82d1e7fabd56"
      },
      "outputs": [
        {
          "output_type": "execute_result",
          "data": {
            "text/plain": [
              "863.9632110659318"
            ]
          },
          "metadata": {},
          "execution_count": 245
        }
      ],
      "source": [
        "Qw=(To_prod-Tamb)/(Rcni+Rext) #calor util para la habitación,maximo\n",
        "Qo_funnel=Q_room-Qw\n",
        "Qo_funnel\n",
        "\n",
        "To_funnel= To_prod-Qw/(cp_prodm*m_prod)\n",
        "To_funnel"
      ]
    },
    {
      "cell_type": "code",
      "execution_count": null,
      "id": "b2674060-641c-4308-a1bb-c1ef2cda3e11",
      "metadata": {
        "colab": {
          "base_uri": "https://localhost:8080/"
        },
        "id": "b2674060-641c-4308-a1bb-c1ef2cda3e11",
        "outputId": "54d8abfe-7f20-4a1b-8a7a-272ff7aedd7f"
      },
      "outputs": [
        {
          "output_type": "execute_result",
          "data": {
            "text/plain": [
              "0.6965022131730333"
            ]
          },
          "metadata": {},
          "execution_count": 246
        }
      ],
      "source": [
        "eta_termica=(Pot-Qo_funnel)/Pot\n",
        "eta_termica"
      ]
    },
    {
      "cell_type": "code",
      "execution_count": null,
      "id": "08e69c33-bdad-41b4-b5eb-9da39e773999",
      "metadata": {
        "id": "08e69c33-bdad-41b4-b5eb-9da39e773999"
      },
      "outputs": [],
      "source": [
        "#To_prod es dato\n",
        "Tamb=23+273.15 #K\n",
        "\n",
        "def nusselt_external_convection(Gr, Pr):\n",
        "    \"\"\"\n",
        "\n",
        "    \"\"\"\n",
        "    numerator = 0.387 * (Gr * Pr)**(1/6)\n",
        "    denominator = (1 + (0.559 / Pr)*(9/16))*(8/27)\n",
        "    Nu = 0.6 + numerator / denominator\n",
        "    return Nu\n",
        "\n",
        "\n",
        "\n",
        "\n",
        "\n",
        "def Rcni(Ts,T_mean_gas):\n",
        "    T_f = (Ts + T_mean_gas)\n",
        "\n",
        "    #asumimos una To_funnel (salida cañon)\n",
        "    #h interno\n",
        "    Di=3*0.0254\n",
        "    Ai=np.pi*(Di/2)**2\n",
        "    L=2 #m\n",
        "\n",
        "    h_prod, s_prod, M_prod, cp_prodm, viscosity_prod, k_prod, density_prodm = prod(T_f)\n",
        "\n",
        "    V=m_prod/(density_prodm*Ai) #m/s\n",
        "    Re=V*Di/viscosity_prod\n",
        "\n",
        "    alpha=k_prod/(density_prodm*cp_prodm)\n",
        "    Pr=viscosity_prod/alpha\n",
        "\n",
        "\n",
        "    #usamos la correlacion de dittus-boelter, con calentamiento\n",
        "    Nu=0.023*(Re**0.8)*(Pr**0.4)\n",
        "\n",
        "    hi=Nu*k_prod/Di\n",
        "    Ais=np.pi*Di*L #superficial\n",
        "    Rcni=1/(Ais*hi)\n",
        "\n",
        "    return Rcni\n",
        "\n",
        "def Rcno(Ts):\n",
        "    #asumimos una To_funnel (salida cañon)\n",
        "    Tf = (Ts+Tamb)/2\n",
        "\n",
        "    h_prod, s_prod, M_prod, cp_prodm, viscosity_prod, k_prod, density_prodm = prod(Tf)\n",
        "    #h interno\n",
        "    Di=3*0.0254\n",
        "    Ai=np.pi*(Di/2)**2\n",
        "    L=2 #m\n",
        "\n",
        "    V=m_prod/(density_prodm*Ai) #m/s\n",
        "    Re=V*Di/viscosity_prod\n",
        "\n",
        "    alpha=k_prod/(density_prodm*cp_prodm)\n",
        "    Pr=viscosity_prod/alpha\n",
        "\n",
        "\n",
        "    #usamos la correlacion de dittus-boelter, con calentamiento\n",
        "    Nu=0.023*(Re**0.8)*(Pr**0.4)\n",
        "\n",
        "    hi=Nu*k_prod/Di\n",
        "    Ais=np.pi*Di*L #superficial\n",
        "    Rcni=1/(Ais*hi)\n",
        "\n",
        "    return Rcni\n",
        "\n",
        "def Rrad(Ts):\n",
        "    emi=0.7\n",
        "    cboltz=5.67*10**(-8)\n",
        "    qrad=emi*cboltz*(Ts**4-Tamb**4)\n",
        "    hrad=qrad/(Ts-Tamb)\n",
        "    Rrad=1/(hrad*Ao)\n",
        "\n",
        "    return Rrad\n",
        "\n",
        "\n",
        "\n",
        "def temp_funnel(To_funnel):\n",
        "    T_mean_gas = (To_prod + To_funnel)/2\n",
        "    Ts = (T_mean_gas + Tamb)/2\n",
        "    #print(\"r's: \", Rcni(Ts,T_mean_gas),(Rcno(Ts)),(Rrad(Ts)))\n",
        "    R_t = Rcni(Ts,T_mean_gas) + 1/(1 / (Rcno(Ts)) + 1/(Rrad(Ts))) #radiativa interna despreciable\n",
        "    #print(\"r total: \", R_t)\n",
        "    Qw=(T_mean_gas-Tamb)/(R_t)\n",
        "\n",
        "    h_prod, s_prod, M_prod, cp_prodm, viscosity_prod, k_prod, density_prodm = prod(T_mean_gas)\n",
        "    To_funnel= To_prod-Qw/(cp_prodm*m_prod)\n",
        "    eta_termica = (Pot-(Q_room-Qw))/Pot\n",
        "\n",
        "    return Qw, To_funnel, eta_termica\n",
        "\n",
        "\n",
        "T_funnel_iterado =[(1000)]\n",
        "Q_w_iterado = [0]\n",
        "eta_iterado = [1]\n",
        "for i in range(30):\n",
        "    k = temp_funnel(T_funnel_iterado[-1])\n",
        "    T_funnel_iterado.append(k[1])\n",
        "    Q_w_iterado.append(k[0])\n",
        "    eta_iterado.append(k[2])\n",
        "\n",
        "\n"
      ]
    },
    {
      "cell_type": "code",
      "source": [
        "import matplotlib.pyplot as plt\n",
        "import numpy as np\n",
        "\n",
        "# Paleta de colores atractiva\n",
        "colors = ['#1f77b4', '#ff7f0e', '#2ca02c']\n",
        "\n",
        "# Crear figura con 3 subplots\n",
        "plt.figure(figsize=(12, 8))\n",
        "\n",
        "# Subplot 1: Temperatura de salida\n",
        "plt.subplot(3, 1, 1)\n",
        "plt.plot(np.array(T_funnel_iterado)-273.15, color=colors[0], label='Temperatura de salida')\n",
        "plt.axhline(y=T_funnel_iterado[-1]-273.15, color=colors[0], linestyle='--', alpha = .5,\n",
        "            label=f'Valor final: {T_funnel_iterado[-1]-273.15:.1f} °C')\n",
        "plt.ylabel('Temperatura (°C)')\n",
        "plt.title('Evolución de la temperatura de salida del gas')\n",
        "plt.grid(True)\n",
        "plt.legend()\n",
        "\n",
        "# Subplot 2: Calor entregado al hogar\n",
        "plt.subplot(3, 1, 2)\n",
        "plt.plot(Q_w_iterado, color=colors[1], label='Calor entregado')\n",
        "plt.axhline(y=Q_w_iterado[-1], color=colors[1], linestyle='--', alpha = .5,\n",
        "            label=f'Valor final: {Q_w_iterado[-1]:.1f} W')\n",
        "plt.ylabel('Calor (W)')\n",
        "plt.title('Calor transferido al hogar')\n",
        "plt.grid(True)\n",
        "plt.legend()\n",
        "\n",
        "# Subplot 3: Eficiencia térmica\n",
        "plt.subplot(3, 1, 3)\n",
        "plt.plot(eta_iterado, color=colors[2], label='Eficiencia')\n",
        "plt.axhline(y=eta_iterado[-1], color=colors[2], linestyle='--', alpha = .5,\n",
        "            label=f'Valor final: {eta_iterado[-1]*100:.1f}%')\n",
        "plt.xlabel('Número de iteración')\n",
        "plt.ylabel('Eficiencia')\n",
        "plt.title('Eficiencia térmica de la chimenea')\n",
        "plt.grid(True)\n",
        "plt.legend()\n",
        "\n",
        "\n",
        "plt.tight_layout()\n",
        "fig.suptitle('Análisis de rendimiento de la chimenea', fontsize=16, fontweight='bold', y=0.98)\n",
        "plt.subplots_adjust(top=0.92)\n",
        "\n",
        "\n",
        "# Ajustar espacios entre subplots\n",
        "plt.tight_layout()\n",
        "plt.show()"
      ],
      "metadata": {
        "colab": {
          "base_uri": "https://localhost:8080/",
          "height": 804
        },
        "id": "Y97ii12zjVcY",
        "outputId": "19f80b71-e0bc-487e-9693-4f63c1540739"
      },
      "id": "Y97ii12zjVcY",
      "execution_count": null,
      "outputs": [
        {
          "output_type": "display_data",
          "data": {
            "text/plain": [
              "<Figure size 1200x800 with 3 Axes>"
            ],
            "image/png": "[encoded data removed]"
          },
          "metadata": {}
        }
      ]
    },
    {
      "cell_type": "code",
      "source": [
        "print(\"Prueba para ver si GH funciona\")"
      ],
      "metadata": {
        "colab": {
          "base_uri": "https://localhost:8080/"
        },
        "id": "5bY9b2hJq3pV",
        "outputId": "0fc922ad-216a-4d04-cf6f-2a81fa90b84b"
      },
      "id": "5bY9b2hJq3pV",
      "execution_count": 2,
      "outputs": [
        {
          "output_type": "stream",
          "name": "stdout",
          "text": [
            "Prueba para ver si GH funciona\n"
          ]
        }
      ]
    }
  ],
  "metadata": {
    "kernelspec": {
      "display_name": "Python 3 (ipykernel)",
      "language": "python",
      "name": "python3"
    },
    "language_info": {
      "codemirror_mode": {
        "name": "ipython",
        "version": 3
      },
      "file_extension": ".py",
      "mimetype": "text/x-python",
      "name": "python",
      "nbconvert_exporter": "python",
      "pygments_lexer": "ipython3",
      "version": "3.11.9"
    },
    "colab": {
      "provenance": []
    }
  },
  "nbformat": 4,
  "nbformat_minor": 5
}